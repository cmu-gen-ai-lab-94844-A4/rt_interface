{
 "cells": [
  {
   "cell_type": "code",
   "execution_count": 1,
   "metadata": {},
   "outputs": [
    {
     "name": "stderr",
     "output_type": "stream",
     "text": [
      "/Users/skingsle/opt/anaconda3/envs/new_env/lib/python3.12/site-packages/tqdm/auto.py:21: TqdmWarning: IProgress not found. Please update jupyter and ipywidgets. See https://ipywidgets.readthedocs.io/en/stable/user_install.html\n",
      "  from .autonotebook import tqdm as notebook_tqdm\n"
     ]
    }
   ],
   "source": [
    "import transformers, huggingface_hub, datasets \n",
    "from transformers import pipeline\n",
    "from json import loads, dumps\n",
    "\n",
    "import openai, logging, os, socket, csv, json, random, uuid # type: ignore\n",
    "from datetime import datetime, timedelta\n",
    "from io import BytesIO, StringIO"
   ]
  },
  {
   "cell_type": "code",
   "execution_count": 13,
   "metadata": {},
   "outputs": [],
   "source": [
    "def get_ai_response(message):\n",
    "    openai_api_key = os.getenv(\"OPENAI_API_KEY\")\n",
    "    if not openai_api_key:\n",
    "        raise RuntimeError(\"No OpenAI API key found in the environment variables. Please set 'OPENAI_API_KEY' in the .env file.\")\n",
    "    \n",
    "    openai.api_key = openai_api_key\n",
    "    \n",
    "    response = openai.chat.completions.create(\n",
    "        model=\"gpt-4o-mini\",\n",
    "        messages=[\n",
    "            {\"role\": \"system\", \"content\": \"Respond to this {message}\"},\n",
    "            {\"role\": \"user\", \"content\": message}])\n",
    "\n",
    "    response=response.choices[0].message.content\n",
    "    \n",
    "    timestamp_aiResponse_received = datetime.now().isoformat()\n",
    "    session[' timestamp_aiResponse_received'] =  timestamp_aiResponse_received\n",
    "    \n",
    "    return response\n",
    "\n",
    "def get_llama_response(message):\n",
    "    from dotenv import load_dotenv\n",
    "    load_dotenv()\n",
    "    \n",
    "    HF_TOKEN = os.getenv(\"HUGGINGFACE_TOKEN\")\n",
    "    if not HF_TOKEN:\n",
    "        raise RuntimeError(\"No Hugging Face API token found in the environment variables. Please set 'HUGGINGFACE_TOKEN' in the .env file.\")\n",
    "    \n",
    "    #from huggingface_hub import login\n",
    "    #login(token=HF_TOKEN)\n",
    "\n",
    "    pipe = pipeline(\"text-generation\", model=\"meta-llama/Llama-3.2-1B\", token=HF_TOKEN)  \n",
    "\n",
    "    if isinstance(message, str):\n",
    "        messages = [message]  # Convert the single prompt to a list\n",
    "\n",
    "    responses = []\n",
    "    system_prompt = \"Provide a response to the user.\"\n",
    "\n",
    "    for prompt in messages:\n",
    "        # Generate response from the LLM\n",
    "        try:\n",
    "            # Assuming the model can handle single string inputs as well\n",
    "            outputs = pipe(f\"{system_prompt} {prompt}\", max_length=150, num_return_sequences=1, truncation=True)\n",
    "            response = outputs[0][\"generated_text\"]\n",
    "            responses.append(response)\n",
    "        except Exception as e:\n",
    "            responses.append(f\"Error generating response: {e}\")\n",
    "\n",
    "    return responses if len(responses) > 1 else responses[0]  # Return a single response or a list"
   ]
  },
  {
   "cell_type": "code",
   "execution_count": 14,
   "metadata": {},
   "outputs": [
    {
     "name": "stderr",
     "output_type": "stream",
     "text": [
      "Setting `pad_token_id` to `eos_token_id`:None for open-end generation.\n"
     ]
    },
    {
     "data": {
      "text/plain": [
       "'Provide a response to the user. hello, how are you?'"
      ]
     },
     "execution_count": 14,
     "metadata": {},
     "output_type": "execute_result"
    }
   ],
   "source": [
    "get_llama_response(message=\"hello, how are you?\")"
   ]
  },
  {
   "cell_type": "code",
   "execution_count": null,
   "metadata": {},
   "outputs": [],
   "source": [
    "import sqlite3\n",
    "\n",
    "def fetch_all_records_from_prompts_responses(db_path):\n",
    "    \"\"\"\n",
    "    Fetch all records from the prompts_responses table.\n",
    "\n",
    "    :param db_path: The path to the SQLite database file.\n",
    "    :return: A list of tuples, each representing a row in the table.\n",
    "    \"\"\"\n",
    "    try:\n",
    "        # Connect to the SQLite database\n",
    "        connection = sqlite3.connect(db_path)\n",
    "        cursor = connection.cursor()\n",
    "\n",
    "        # Define the SQL query to retrieve all records\n",
    "        query = \"SELECT * FROM prompts_responses;\"\n",
    "\n",
    "        # Execute the query\n",
    "        cursor.execute(query)\n",
    "\n",
    "        # Fetch all records from the table\n",
    "        rows = cursor.fetchall()\n",
    "\n",
    "        # Close the cursor and connection\n",
    "        cursor.close()\n",
    "        connection.close()\n",
    "\n",
    "        return rows\n",
    "\n",
    "    except sqlite3.Error as e:\n",
    "        print(f\"An error occurred while fetching records: {e}\")\n",
    "        return []\n"
   ]
  },
  {
   "cell_type": "code",
   "execution_count": 23,
   "metadata": {},
   "outputs": [],
   "source": [
    "def get_postgres_connection_pool():\n",
    "    try:\n",
    "        # Use the connection string directly\n",
    "        connection_string = os.environ['PGCONNECTIONSTRING']\n",
    "\n",
    "        # Create a connection pool\n",
    "        pg_pool = psycopg2.pool.SimpleConnectionPool(1, 10, dsn=connection_string)  # Adjust minconn and maxconn as needed\n",
    "\n",
    "        if pg_pool:\n",
    "            print(\"Connection pool created successfully\")\n",
    "\n",
    "        # Get a connection from the pool\n",
    "        connection = pg_pool.getconn()\n",
    "        if connection:\n",
    "            print(\"Successfully received connection from pool\")\n",
    "\n",
    "        return pg_pool, connection\n",
    "\n",
    "    except (Exception, psycopg2.DatabaseError) as error:\n",
    "        print(\"Error while connecting to PostgreSQL\", error)"
   ]
  },
  {
   "cell_type": "code",
   "execution_count": 22,
   "metadata": {},
   "outputs": [],
   "source": [
    "#!pip install psycopg2-binary\n",
    "import psycopg2 # type: ignore\n",
    "import psycopg2.extras # type: ignore\n",
    "from psycopg2 import pool # type: ignore\n",
    "\n",
    "def get_user_id_genailab(user_id):\n",
    "  pg_pool, connection = get_postgres_connection_pool()\n",
    "  cursor = connection.cursor()\n",
    "  cursor.execute('''SELECT user_id FROM genailab_users WHERE user_id= %s;''', (user_id,))\n",
    "  user_ids = cursor.fetchall()\n",
    "  pg_pool.putconn(connection)\n",
    "  return user_id\n",
    "  "
   ]
  },
  {
   "cell_type": "code",
   "execution_count": null,
   "metadata": {},
   "outputs": [
    {
     "name": "stdout",
     "output_type": "stream",
     "text": [
      "Connection pool created successfully\n",
      "Successfully received connection from pool\n"
     ]
    },
    {
     "ename": "InvalidTextRepresentation",
     "evalue": "invalid input syntax for type integer: \"test\"\nLINE 1: SELECT user_id FROM genailab_users WHERE user_id= 'test';\n                                                          ^\n",
     "output_type": "error",
     "traceback": [
      "\u001b[0;31m---------------------------------------------------------------------------\u001b[0m",
      "\u001b[0;31mInvalidTextRepresentation\u001b[0m                 Traceback (most recent call last)",
      "Cell \u001b[0;32mIn[25], line 1\u001b[0m\n\u001b[0;32m----> 1\u001b[0m \u001b[43mget_user_id_genailab\u001b[49m\u001b[43m(\u001b[49m\u001b[43muser_id\u001b[49m\u001b[38;5;241;43m=\u001b[39;49m\u001b[38;5;124;43m\"\u001b[39;49m\u001b[38;5;124;43mtest\u001b[39;49m\u001b[38;5;124;43m\"\u001b[39;49m\u001b[43m)\u001b[49m\n",
      "Cell \u001b[0;32mIn[22], line 9\u001b[0m, in \u001b[0;36mget_user_id_genailab\u001b[0;34m(user_id)\u001b[0m\n\u001b[1;32m      7\u001b[0m pg_pool, connection \u001b[38;5;241m=\u001b[39m get_postgres_connection_pool()\n\u001b[1;32m      8\u001b[0m cursor \u001b[38;5;241m=\u001b[39m connection\u001b[38;5;241m.\u001b[39mcursor()\n\u001b[0;32m----> 9\u001b[0m \u001b[43mcursor\u001b[49m\u001b[38;5;241;43m.\u001b[39;49m\u001b[43mexecute\u001b[49m\u001b[43m(\u001b[49m\u001b[38;5;124;43m'''\u001b[39;49m\u001b[38;5;124;43mSELECT user_id FROM genailab_users WHERE user_id= \u001b[39;49m\u001b[38;5;132;43;01m%s\u001b[39;49;00m\u001b[38;5;124;43m;\u001b[39;49m\u001b[38;5;124;43m'''\u001b[39;49m\u001b[43m,\u001b[49m\u001b[43m \u001b[49m\u001b[43m(\u001b[49m\u001b[43muser_id\u001b[49m\u001b[43m,\u001b[49m\u001b[43m)\u001b[49m\u001b[43m)\u001b[49m\n\u001b[1;32m     10\u001b[0m user_ids \u001b[38;5;241m=\u001b[39m cursor\u001b[38;5;241m.\u001b[39mfetchall()\n\u001b[1;32m     11\u001b[0m pg_pool\u001b[38;5;241m.\u001b[39mputconn(connection)\n",
      "\u001b[0;31mInvalidTextRepresentation\u001b[0m: invalid input syntax for type integer: \"test\"\nLINE 1: SELECT user_id FROM genailab_users WHERE user_id= 'test';\n                                                          ^\n"
     ]
    }
   ],
   "source": []
  },
  {
   "cell_type": "code",
   "execution_count": 28,
   "metadata": {},
   "outputs": [
    {
     "name": "stdout",
     "output_type": "stream",
     "text": [
      "Connection pool created successfully\n",
      "Successfully received connection from pool\n"
     ]
    }
   ],
   "source": [
    "pg_pool, connection = get_postgres_connection_pool()\n",
    "cursor = connection.cursor()\n",
    "cursor.execute('''SELECT * FROM prompts_responses;''')"
   ]
  },
  {
   "cell_type": "code",
   "execution_count": 29,
   "metadata": {},
   "outputs": [
    {
     "data": {
      "text/plain": [
       "[]"
      ]
     },
     "execution_count": 29,
     "metadata": {},
     "output_type": "execute_result"
    }
   ],
   "source": [
    "cursor.fetchall()"
   ]
  },
  {
   "cell_type": "code",
   "execution_count": null,
   "metadata": {},
   "outputs": [],
   "source": []
  }
 ],
 "metadata": {
  "kernelspec": {
   "display_name": "new_env",
   "language": "python",
   "name": "python3"
  },
  "language_info": {
   "codemirror_mode": {
    "name": "ipython",
    "version": 3
   },
   "file_extension": ".py",
   "mimetype": "text/x-python",
   "name": "python",
   "nbconvert_exporter": "python",
   "pygments_lexer": "ipython3",
   "version": "3.12.7"
  }
 },
 "nbformat": 4,
 "nbformat_minor": 2
}
